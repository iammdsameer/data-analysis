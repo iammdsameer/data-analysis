{
  "nbformat": 4,
  "nbformat_minor": 0,
  "metadata": {
    "colab": {
      "name": "amazon prime data wrangling.ipynb",
      "provenance": []
    },
    "kernelspec": {
      "name": "python3",
      "display_name": "Python 3"
    },
    "language_info": {
      "name": "python"
    }
  },
  "cells": [
    {
      "cell_type": "code",
      "metadata": {
        "id": "TEIkzZkZ-TwT"
      },
      "source": [
        "import numpy as np\n",
        "import pandas as pd"
      ],
      "execution_count": 2,
      "outputs": []
    },
    {
      "cell_type": "code",
      "metadata": {
        "id": "N7WLMW8_-eF9"
      },
      "source": [
        "dataset = pd.read_csv('amazon_prime_original.csv')"
      ],
      "execution_count": 3,
      "outputs": []
    },
    {
      "cell_type": "code",
      "metadata": {
        "colab": {
          "base_uri": "https://localhost:8080/",
          "height": 306
        },
        "id": "90OFtop3-mH2",
        "outputId": "3ba36a25-f3f8-44de-dd28-6973fc0bf852"
      },
      "source": [
        "dataset.head()"
      ],
      "execution_count": 4,
      "outputs": [
        {
          "output_type": "execute_result",
          "data": {
            "text/html": [
              "<div>\n",
              "<style scoped>\n",
              "    .dataframe tbody tr th:only-of-type {\n",
              "        vertical-align: middle;\n",
              "    }\n",
              "\n",
              "    .dataframe tbody tr th {\n",
              "        vertical-align: top;\n",
              "    }\n",
              "\n",
              "    .dataframe thead th {\n",
              "        text-align: right;\n",
              "    }\n",
              "</style>\n",
              "<table border=\"1\" class=\"dataframe\">\n",
              "  <thead>\n",
              "    <tr style=\"text-align: right;\">\n",
              "      <th></th>\n",
              "      <th>Movie Name</th>\n",
              "      <th>Language</th>\n",
              "      <th>IMDb Rating</th>\n",
              "      <th>Running Time</th>\n",
              "      <th>Year of Release</th>\n",
              "      <th>Maturity Rating</th>\n",
              "      <th>Plot</th>\n",
              "    </tr>\n",
              "  </thead>\n",
              "  <tbody>\n",
              "    <tr>\n",
              "      <th>0</th>\n",
              "      <td>John Rambo</td>\n",
              "      <td>Tamil</td>\n",
              "      <td>7</td>\n",
              "      <td>1 h 26 min</td>\n",
              "      <td>2008</td>\n",
              "      <td>18+</td>\n",
              "      <td>In Thailand, John Rambo joins a group of merce...</td>\n",
              "    </tr>\n",
              "    <tr>\n",
              "      <th>1</th>\n",
              "      <td>American Pie</td>\n",
              "      <td>English</td>\n",
              "      <td>7</td>\n",
              "      <td>1 h 35 min</td>\n",
              "      <td>1999</td>\n",
              "      <td>18+</td>\n",
              "      <td>You'll never look at warm apple pie the same w...</td>\n",
              "    </tr>\n",
              "    <tr>\n",
              "      <th>2</th>\n",
              "      <td>Bombshell</td>\n",
              "      <td>English</td>\n",
              "      <td>6.8</td>\n",
              "      <td>1 h 48 min</td>\n",
              "      <td>2019</td>\n",
              "      <td>18+</td>\n",
              "      <td>The provocative real story of three smart, amb...</td>\n",
              "    </tr>\n",
              "    <tr>\n",
              "      <th>3</th>\n",
              "      <td>Love Birds</td>\n",
              "      <td>Tamil</td>\n",
              "      <td>5.1</td>\n",
              "      <td>2 h 40 min</td>\n",
              "      <td>1996</td>\n",
              "      <td>All</td>\n",
              "      <td>After accidentally meeting, Mridula (Nagma) an...</td>\n",
              "    </tr>\n",
              "    <tr>\n",
              "      <th>4</th>\n",
              "      <td>Hippi</td>\n",
              "      <td>Telugu</td>\n",
              "      <td>5</td>\n",
              "      <td>2 h 20 min</td>\n",
              "      <td>2019</td>\n",
              "      <td>18+</td>\n",
              "      <td>Hippi is about the live-in relationship betwee...</td>\n",
              "    </tr>\n",
              "  </tbody>\n",
              "</table>\n",
              "</div>"
            ],
            "text/plain": [
              "     Movie Name  ...                                               Plot\n",
              "0    John Rambo  ...  In Thailand, John Rambo joins a group of merce...\n",
              "1  American Pie  ...  You'll never look at warm apple pie the same w...\n",
              "2     Bombshell  ...  The provocative real story of three smart, amb...\n",
              "3    Love Birds  ...  After accidentally meeting, Mridula (Nagma) an...\n",
              "4         Hippi  ...  Hippi is about the live-in relationship betwee...\n",
              "\n",
              "[5 rows x 7 columns]"
            ]
          },
          "metadata": {
            "tags": []
          },
          "execution_count": 4
        }
      ]
    },
    {
      "cell_type": "code",
      "metadata": {
        "colab": {
          "base_uri": "https://localhost:8080/"
        },
        "id": "r0Bbxzv0-n5c",
        "outputId": "1ef4191d-b955-43ff-e68e-6b0a6f40fcf5"
      },
      "source": [
        "dataset.isnull().sum()"
      ],
      "execution_count": 5,
      "outputs": [
        {
          "output_type": "execute_result",
          "data": {
            "text/plain": [
              "Movie Name         0\n",
              "Language           0\n",
              "IMDb Rating        0\n",
              "Running Time       0\n",
              "Year of Release    0\n",
              "Maturity Rating    0\n",
              "Plot               5\n",
              "dtype: int64"
            ]
          },
          "metadata": {
            "tags": []
          },
          "execution_count": 5
        }
      ]
    },
    {
      "cell_type": "code",
      "metadata": {
        "colab": {
          "base_uri": "https://localhost:8080/"
        },
        "id": "DPyJPyjnAyB1",
        "outputId": "6376966e-c44b-49c8-d122-023d00d57ee7"
      },
      "source": [
        "dataset.isna().sum()"
      ],
      "execution_count": 13,
      "outputs": [
        {
          "output_type": "execute_result",
          "data": {
            "text/plain": [
              "Movie Name         0\n",
              "Language           0\n",
              "IMDb Rating        0\n",
              "Running Time       0\n",
              "Year of Release    0\n",
              "Maturity Rating    0\n",
              "dtype: int64"
            ]
          },
          "metadata": {
            "tags": []
          },
          "execution_count": 13
        }
      ]
    },
    {
      "cell_type": "code",
      "metadata": {
        "id": "NfujQNWn-rEF"
      },
      "source": [
        "dataset.drop(labels='Plot', axis=1, inplace=True)"
      ],
      "execution_count": 6,
      "outputs": []
    },
    {
      "cell_type": "code",
      "metadata": {
        "id": "YaIYvKwx-xry"
      },
      "source": [
        "preprocessed_data = dataset.sample(n=1923, random_state=7)"
      ],
      "execution_count": 7,
      "outputs": []
    },
    {
      "cell_type": "code",
      "metadata": {
        "colab": {
          "base_uri": "https://localhost:8080/"
        },
        "id": "p0Gwr3yw-8qN",
        "outputId": "8582df18-a425-4881-a71a-75afefa3b2cb"
      },
      "source": [
        "preprocessed_data['IMDb Rating']"
      ],
      "execution_count": 8,
      "outputs": [
        {
          "output_type": "execute_result",
          "data": {
            "text/plain": [
              "7635       7\n",
              "2684    None\n",
              "6453     7.4\n",
              "4361    None\n",
              "1831     7.5\n",
              "        ... \n",
              "4738    None\n",
              "4991     8.2\n",
              "5299     7.3\n",
              "5817     8.1\n",
              "4243     6.4\n",
              "Name: IMDb Rating, Length: 1923, dtype: object"
            ]
          },
          "metadata": {
            "tags": []
          },
          "execution_count": 8
        }
      ]
    },
    {
      "cell_type": "code",
      "metadata": {
        "id": "7bMLANer_Olx"
      },
      "source": [
        "def to_float(x):\n",
        "  return 0.0 if x == None or 'None' else float(x)\n",
        "\n",
        "def to_int(x):\n",
        "  return 0 if x == None or 'None' else int(x)\n",
        "\n",
        "def to_min(x):\n",
        "  try:\n",
        "    return int(x)\n",
        "  except:\n",
        "    if 'm' in x:\n",
        "      return int(x.split('m')[0])\n",
        "    return int(x.split('h')[0])"
      ],
      "execution_count": 11,
      "outputs": []
    },
    {
      "cell_type": "code",
      "metadata": {
        "id": "hmWclhT6ARJh"
      },
      "source": [
        "preprocessed_data['IMDb Rating'] = preprocessed_data['IMDb Rating'].apply(to_float)\n",
        "preprocessed_data['Year of Release'] = preprocessed_data['Year of Release'].apply(to_int)\n",
        "preprocessed_data['Running Time(in min)'] = preprocessed_data['IMDb Rating'].apply(to_min)"
      ],
      "execution_count": 12,
      "outputs": []
    },
    {
      "cell_type": "code",
      "metadata": {
        "id": "nvlQ9xVRAohV"
      },
      "source": [
        "preprocessed_data.to_json('amazon_refined_final.json', orient='records')"
      ],
      "execution_count": 14,
      "outputs": []
    }
  ]
}